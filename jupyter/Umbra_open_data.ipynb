{
 "cells": [
  {
   "cell_type": "markdown",
   "id": "f98540dd",
   "metadata": {},
   "source": [
    "##### Source \n",
    "https://registry.opendata.aws/umbra-open-data/\n",
    "\n",
    "##### Description\n",
    "Umbra Spotlight collects including GEC, SICD, SIDD, CPHD data and metadata"
   ]
  },
  {
   "cell_type": "code",
   "execution_count": 37,
   "id": "a7476046",
   "metadata": {},
   "outputs": [],
   "source": [
    "import s3fs\n",
    "import os\n",
    "import json\n",
    "import pandas as pd"
   ]
  },
  {
   "cell_type": "code",
   "execution_count": 9,
   "id": "d4d37a28",
   "metadata": {},
   "outputs": [],
   "source": [
    "bucket_name = 's3://umbra-open-data-catalog/'"
   ]
  },
  {
   "cell_type": "code",
   "execution_count": 13,
   "id": "8566ec9a",
   "metadata": {},
   "outputs": [],
   "source": [
    "# list data from Umbra S3 bucket\n",
    "def listFilesInBucket(bucket):\n",
    "    fs = s3fs.S3FileSystem(anon = True)\n",
    "    \n",
    "    files = fs.ls(bucket)\n",
    "    return list(files)"
   ]
  },
  {
   "cell_type": "code",
   "execution_count": 14,
   "id": "82212ad3",
   "metadata": {},
   "outputs": [
    {
     "name": "stdout",
     "output_type": "stream",
     "text": [
      "['umbra-open-data-catalog/', 'umbra-open-data-catalog/error.html', 'umbra-open-data-catalog/index.html', 'umbra-open-data-catalog/list.js', 'umbra-open-data-catalog/sar-data', 'umbra-open-data-catalog/stac', 'umbra-open-data-catalog/verified.txt']\n"
     ]
    }
   ],
   "source": [
    "print(listFilesInBucket(bucket_name))"
   ]
  },
  {
   "cell_type": "code",
   "execution_count": 24,
   "id": "6b33e72b",
   "metadata": {},
   "outputs": [
    {
     "name": "stdout",
     "output_type": "stream",
     "text": [
      "umbra-open-data-catalog/sar-data/tasks/Kalgoorlie Super Pit, Australia/0015903b-453a-4d06-a91f-554408a5f4b7/2025-06-16-14-58-04_UMBRA-08/2025-06-16-14-58-04_UMBRA-08.stac.v2.json\n",
      "umbra-open-data-catalog/sar-data/tasks/Kalgoorlie Super Pit, Australia/0015903b-453a-4d06-a91f-554408a5f4b7/2025-06-16-14-58-04_UMBRA-08/2025-06-16-14-58-04_UMBRA-08_GEC.tif\n",
      "umbra-open-data-catalog/sar-data/tasks/Kalgoorlie Super Pit, Australia/0015903b-453a-4d06-a91f-554408a5f4b7/2025-06-16-14-58-04_UMBRA-08/2025-06-16-14-58-04_UMBRA-08_SICD.nitf\n",
      "umbra-open-data-catalog/sar-data/tasks/Kalgoorlie Super Pit, Australia/0015903b-453a-4d06-a91f-554408a5f4b7/2025-06-16-14-58-04_UMBRA-08/2025-06-16-14-58-04_UMBRA-08_SIDD.nitf\n"
     ]
    }
   ],
   "source": [
    "# list sar_data\n",
    "for i in listFilesInBucket(f\"{bucket_name}/sar-data/tasks/Kalgoorlie Super Pit, Australia/0015903b-453a-4d06-a91f-554408a5f4b7/2025-06-16-14-58-04_UMBRA-08\"):\n",
    "    print(i)"
   ]
  },
  {
   "cell_type": "code",
   "execution_count": 28,
   "id": "2b07bc48",
   "metadata": {},
   "outputs": [],
   "source": [
    "my_path = 'sar-data/tasks/Kalgoorlie Super Pit, Australia/0015903b-453a-4d06-a91f-554408a5f4b7/2025-06-16-14-58-04_UMBRA-08'\n",
    "\n",
    "def createFolder(path):\n",
    "    # get current directory\n",
    "    cwd = os.getcwd()\n",
    "    \n",
    "    # create directory if it does not exists\n",
    "    try:\n",
    "        os.makedirs(f\"{cwd}/{path}\")\n",
    "    except OSError:\n",
    "        pass"
   ]
  },
  {
   "cell_type": "code",
   "execution_count": 29,
   "id": "d83bebae",
   "metadata": {},
   "outputs": [],
   "source": [
    "createFolder(my_path)"
   ]
  },
  {
   "cell_type": "code",
   "execution_count": 31,
   "id": "9a357d15",
   "metadata": {},
   "outputs": [],
   "source": [
    "s3_prefix = \"s3://umbra-open-data-catalog/sar-data/tasks/Kalgoorlie Super Pit, Australia/\"\n",
    "fs = s3fs.S3FileSystem(anon=True) "
   ]
  },
  {
   "cell_type": "code",
   "execution_count": 32,
   "id": "b75c5c21",
   "metadata": {},
   "outputs": [],
   "source": [
    "# get stac keys\n",
    "def getSARStacKeys()\n",
    "stac_keys = [p for p in fs.glob(f\"{s3_prefix}**/*.stac.v2.json\")]"
   ]
  },
  {
   "cell_type": "code",
   "execution_count": 35,
   "id": "a5049fb6",
   "metadata": {},
   "outputs": [
    {
     "data": {
      "text/plain": [
       "'umbra-open-data-catalog/sar-data/tasks/Kalgoorlie Super Pit, Australia/0015903b-453a-4d06-a91f-554408a5f4b7/2025-06-16-14-58-04_UMBRA-08/2025-06-16-14-58-04_UMBRA-08.stac.v2.json'"
      ]
     },
     "execution_count": 35,
     "metadata": {},
     "output_type": "execute_result"
    }
   ],
   "source": [
    "stac_keys[0]"
   ]
  },
  {
   "cell_type": "code",
   "execution_count": null,
   "id": "dd263bf4",
   "metadata": {},
   "outputs": [],
   "source": [
    "# extract timestamp and file path\n",
    "def umbraSARToDataframe(keys):\n",
    "    rows = []\n",
    "\n",
    "    for key in stac_keys:\n",
    "        with fs.open(key, \"rb\") as f:\n",
    "            item = json.load(f)\n",
    "        \n",
    "        dt = item.get(\"properties\", {}).get(\"datetime\")\n",
    "        print(dt)\n",
    "    \n",
    "        if dt:\n",
    "            ts = pd.to_datetime(dt)\n",
    "        else:\n",
    "            # fallback: .../2025-06-16-14-58-04_UMBRA-08/...\n",
    "            m = re.search(r\"/(\\d{4}-\\d{2}-\\d{2}-\\d{2}-\\d{2}-\\d{2})_\", key)\n",
    "            ts = pd.to_datetime(m.group(1).replace(\"-\", \":\"), format=\"%Y:%m:%d:%H:%M:%S\") if m else None\n",
    "        \n",
    "        assets = item.get(\"assets\", {})\n",
    "        # Sometimes assets are not listed completely - then we will restore them from neighbors by name\n",
    "        base_dir = \"/\".join(key.split(\"/\")[:-1])\n",
    "        gec = assets.get(\"geotiff\") or assets.get(\"GEC\") or f\"{base_dir}/{base_dir.split('/')[-1]}_GEC.tif\"\n",
    "        sicd = assets.get(\"SICD\") or f\"{base_dir}/{base_dir.split('/')[-1]}_SICD.nitf\"\n",
    "        sidd = assets.get(\"SIDD\") or f\"{base_dir}/{base_dir.split('/')[-1]}_SIDD.nitf\"\n",
    "\n",
    "        rows.append({\"datetime\": ts, \"stac\": f\"s3://{key}\", \"gec\": gec if str(gec).startswith(\"s3://\") else f\"s3://{gec}\",\n",
    "                 \"sicd\": sicd if str(sicd).startswith(\"s3://\") else f\"s3://{sidd}\"})\n",
    "\n",
    "    df = pd.DataFrame(rows).dropna(subset=[\"datetime\"]).sort_values(\"datetime\").reset_index(drop=True)\n",
    "    \n",
    "    return df\n",
    "\n",
    "    "
   ]
  }
 ],
 "metadata": {
  "kernelspec": {
   "display_name": "Python 3 (ipykernel)",
   "language": "python",
   "name": "python3"
  },
  "language_info": {
   "codemirror_mode": {
    "name": "ipython",
    "version": 3
   },
   "file_extension": ".py",
   "mimetype": "text/x-python",
   "name": "python",
   "nbconvert_exporter": "python",
   "pygments_lexer": "ipython3",
   "version": "3.12.3"
  }
 },
 "nbformat": 4,
 "nbformat_minor": 5
}
