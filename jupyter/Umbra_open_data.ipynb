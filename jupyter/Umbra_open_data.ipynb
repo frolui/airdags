{
 "cells": [
  {
   "cell_type": "markdown",
   "id": "f98540dd",
   "metadata": {},
   "source": [
    "##### Source \n",
    "https://registry.opendata.aws/umbra-open-data/\n",
    "\n",
    "##### Description\n",
    "Umbra Spotlight collects including GEC, SICD, SIDD, CPHD data and metadata"
   ]
  },
  {
   "cell_type": "code",
   "execution_count": 37,
   "id": "a7476046",
   "metadata": {},
   "outputs": [],
   "source": [
    "import s3fs\n",
    "import os\n",
    "import json\n",
    "import pandas as pd"
   ]
  },
  {
   "cell_type": "code",
   "execution_count": 9,
   "id": "d4d37a28",
   "metadata": {},
   "outputs": [],
   "source": [
    "bucket_name = 's3://umbra-open-data-catalog/'"
   ]
  },
  {
   "cell_type": "code",
   "execution_count": 13,
   "id": "8566ec9a",
   "metadata": {},
   "outputs": [],
   "source": [
    "# list data from Umbra S3 bucket\n",
    "def listFilesInBucket(bucket):\n",
    "    fs = s3fs.S3FileSystem(anon = True)\n",
    "    \n",
    "    files = fs.ls(bucket)\n",
    "    return list(files)"
   ]
  },
  {
   "cell_type": "code",
   "execution_count": 14,
   "id": "82212ad3",
   "metadata": {},
   "outputs": [
    {
     "name": "stdout",
     "output_type": "stream",
     "text": [
      "['umbra-open-data-catalog/', 'umbra-open-data-catalog/error.html', 'umbra-open-data-catalog/index.html', 'umbra-open-data-catalog/list.js', 'umbra-open-data-catalog/sar-data', 'umbra-open-data-catalog/stac', 'umbra-open-data-catalog/verified.txt']\n"
     ]
    }
   ],
   "source": [
    "print(listFilesInBucket(bucket_name))"
   ]
  },
  {
   "cell_type": "code",
   "execution_count": 24,
   "id": "6b33e72b",
   "metadata": {},
   "outputs": [
    {
     "name": "stdout",
     "output_type": "stream",
     "text": [
      "umbra-open-data-catalog/sar-data/tasks/Kalgoorlie Super Pit, Australia/0015903b-453a-4d06-a91f-554408a5f4b7/2025-06-16-14-58-04_UMBRA-08/2025-06-16-14-58-04_UMBRA-08.stac.v2.json\n",
      "umbra-open-data-catalog/sar-data/tasks/Kalgoorlie Super Pit, Australia/0015903b-453a-4d06-a91f-554408a5f4b7/2025-06-16-14-58-04_UMBRA-08/2025-06-16-14-58-04_UMBRA-08_GEC.tif\n",
      "umbra-open-data-catalog/sar-data/tasks/Kalgoorlie Super Pit, Australia/0015903b-453a-4d06-a91f-554408a5f4b7/2025-06-16-14-58-04_UMBRA-08/2025-06-16-14-58-04_UMBRA-08_SICD.nitf\n",
      "umbra-open-data-catalog/sar-data/tasks/Kalgoorlie Super Pit, Australia/0015903b-453a-4d06-a91f-554408a5f4b7/2025-06-16-14-58-04_UMBRA-08/2025-06-16-14-58-04_UMBRA-08_SIDD.nitf\n"
     ]
    }
   ],
   "source": [
    "# list sar_data\n",
    "for i in listFilesInBucket(f\"{bucket_name}/sar-data/tasks/Kalgoorlie Super Pit, Australia/0015903b-453a-4d06-a91f-554408a5f4b7/2025-06-16-14-58-04_UMBRA-08\"):\n",
    "    print(i)"
   ]
  },
  {
   "cell_type": "code",
   "execution_count": 28,
   "id": "2b07bc48",
   "metadata": {},
   "outputs": [],
   "source": [
    "my_path = 'sar-data/tasks/Kalgoorlie Super Pit, Australia/0015903b-453a-4d06-a91f-554408a5f4b7/2025-06-16-14-58-04_UMBRA-08'\n",
    "\n",
    "def createFolder(path):\n",
    "    # get current directory\n",
    "    cwd = os.getcwd()\n",
    "    \n",
    "    # create directory if it does not exists\n",
    "    try:\n",
    "        os.makedirs(f\"{cwd}/{path}\")\n",
    "    except OSError:\n",
    "        pass"
   ]
  },
  {
   "cell_type": "code",
   "execution_count": 29,
   "id": "d83bebae",
   "metadata": {},
   "outputs": [],
   "source": [
    "createFolder(my_path)"
   ]
  },
  {
   "cell_type": "code",
   "execution_count": 31,
   "id": "9a357d15",
   "metadata": {},
   "outputs": [],
   "source": [
    "s3_prefix = \"s3://umbra-open-data-catalog/sar-data/tasks/Kalgoorlie Super Pit, Australia/\"\n",
    "fs = s3fs.S3FileSystem(anon=True) "
   ]
  },
  {
   "cell_type": "code",
   "execution_count": 38,
   "id": "b75c5c21",
   "metadata": {},
   "outputs": [],
   "source": [
    "# get stac keys\n",
    "def getSARStacKeys(s3_prefix):\n",
    "    stac_keys = [p for p in fs.glob(f\"{s3_prefix}**/*.stac.v2.json\")]\n",
    "    \n",
    "    return stac_keys"
   ]
  },
  {
   "cell_type": "code",
   "execution_count": 39,
   "id": "dd263bf4",
   "metadata": {},
   "outputs": [],
   "source": [
    "# extract timestamp and file path\n",
    "def umbraSARToDataframe(keys):\n",
    "    rows = []\n",
    "\n",
    "    for key in stac_keys:\n",
    "        with fs.open(key, \"rb\") as f:\n",
    "            item = json.load(f)\n",
    "        \n",
    "        dt = item.get(\"properties\", {}).get(\"datetime\")\n",
    "        print(dt)\n",
    "    \n",
    "        if dt:\n",
    "            ts = pd.to_datetime(dt)\n",
    "        else:\n",
    "            # fallback: .../2025-06-16-14-58-04_UMBRA-08/...\n",
    "            m = re.search(r\"/(\\d{4}-\\d{2}-\\d{2}-\\d{2}-\\d{2}-\\d{2})_\", key)\n",
    "            ts = pd.to_datetime(m.group(1).replace(\"-\", \":\"), format=\"%Y:%m:%d:%H:%M:%S\") if m else None\n",
    "        \n",
    "        assets = item.get(\"assets\", {})\n",
    "        # Sometimes assets are not listed completely - then we will restore them from neighbors by name\n",
    "        base_dir = \"/\".join(key.split(\"/\")[:-1])\n",
    "        gec = assets.get(\"geotiff\") or assets.get(\"GEC\") or f\"{base_dir}/{base_dir.split('/')[-1]}_GEC.tif\"\n",
    "        sicd = assets.get(\"SICD\") or f\"{base_dir}/{base_dir.split('/')[-1]}_SICD.nitf\"\n",
    "        sidd = assets.get(\"SIDD\") or f\"{base_dir}/{base_dir.split('/')[-1]}_SIDD.nitf\"\n",
    "\n",
    "        rows.append({\"datetime\": ts, \"stac\": f\"s3://{key}\", \"gec\": gec if str(gec).startswith(\"s3://\") else f\"s3://{gec}\",\n",
    "                 \"sicd\": sicd if str(sicd).startswith(\"s3://\") else f\"s3://{sidd}\"})\n",
    "\n",
    "    dataframe = pd.DataFrame(rows).dropna(subset=[\"datetime\"]).sort_values(\"datetime\").reset_index(drop=True)\n",
    "    \n",
    "    return dataframe"
   ]
  },
  {
   "cell_type": "code",
   "execution_count": 40,
   "id": "105bec38",
   "metadata": {},
   "outputs": [
    {
     "name": "stdout",
     "output_type": "stream",
     "text": [
      "2025-06-16T14:58:06.300000Z\n",
      "2025-04-16T14:54:10.600000Z\n",
      "2025-01-23T00:41:45.299998Z\n",
      "2025-08-16T02:13:43.900000Z\n",
      "2025-05-25T15:06:46.400000Z\n",
      "2025-06-10T14:55:15.200000Z\n",
      "2025-07-29T00:45:21.400000Z\n",
      "2025-02-11T01:58:00.600000Z\n",
      "2025-05-20T02:06:42.500000Z\n",
      "2025-05-15T02:16:56.200000Z\n",
      "2025-02-07T02:18:20.600000Z\n",
      "2025-02-20T00:57:09.199999Z\n",
      "2025-05-15T02:16:43.400000Z\n",
      "2025-07-24T01:57:11.300000Z\n",
      "2025-02-16T00:59:11.299999Z\n",
      "2025-05-07T14:31:35.200000Z\n",
      "2025-07-22T14:30:57.500000Z\n",
      "2025-06-27T00:47:07.199999Z\n",
      "2025-02-04T00:56:35.199999Z\n",
      "2025-05-02T02:18:02.400000Z\n",
      "2025-03-28T02:17:09.400000Z\n",
      "2025-01-29T02:13:48.300000Z\n",
      "2025-03-05T02:17:09.500000Z\n",
      "2025-03-09T02:17:57.500000Z\n",
      "2025-07-04T01:08:35.100000Z\n",
      "2025-01-09T14:33:39.800000Z\n",
      "2025-07-09T02:19:44.300000Z\n",
      "2025-05-10T02:39:37.600000Z\n",
      "2025-01-21T01:50:30.300000Z\n",
      "2025-06-06T02:20:37.400000Z\n",
      "2025-04-10T00:57:11.500000Z\n"
     ]
    },
    {
     "data": {
      "text/html": [
       "<div>\n",
       "<style scoped>\n",
       "    .dataframe tbody tr th:only-of-type {\n",
       "        vertical-align: middle;\n",
       "    }\n",
       "\n",
       "    .dataframe tbody tr th {\n",
       "        vertical-align: top;\n",
       "    }\n",
       "\n",
       "    .dataframe thead th {\n",
       "        text-align: right;\n",
       "    }\n",
       "</style>\n",
       "<table border=\"1\" class=\"dataframe\">\n",
       "  <thead>\n",
       "    <tr style=\"text-align: right;\">\n",
       "      <th></th>\n",
       "      <th>datetime</th>\n",
       "      <th>stac</th>\n",
       "      <th>gec</th>\n",
       "      <th>sicd</th>\n",
       "    </tr>\n",
       "  </thead>\n",
       "  <tbody>\n",
       "    <tr>\n",
       "      <th>0</th>\n",
       "      <td>2025-01-09 14:33:39.800000+00:00</td>\n",
       "      <td>s3://umbra-open-data-catalog/sar-data/tasks/Ka...</td>\n",
       "      <td>s3://umbra-open-data-catalog/sar-data/tasks/Ka...</td>\n",
       "      <td>s3://umbra-open-data-catalog/sar-data/tasks/Ka...</td>\n",
       "    </tr>\n",
       "    <tr>\n",
       "      <th>1</th>\n",
       "      <td>2025-01-21 01:50:30.300000+00:00</td>\n",
       "      <td>s3://umbra-open-data-catalog/sar-data/tasks/Ka...</td>\n",
       "      <td>s3://umbra-open-data-catalog/sar-data/tasks/Ka...</td>\n",
       "      <td>s3://umbra-open-data-catalog/sar-data/tasks/Ka...</td>\n",
       "    </tr>\n",
       "    <tr>\n",
       "      <th>2</th>\n",
       "      <td>2025-01-23 00:41:45.299998+00:00</td>\n",
       "      <td>s3://umbra-open-data-catalog/sar-data/tasks/Ka...</td>\n",
       "      <td>s3://umbra-open-data-catalog/sar-data/tasks/Ka...</td>\n",
       "      <td>s3://umbra-open-data-catalog/sar-data/tasks/Ka...</td>\n",
       "    </tr>\n",
       "    <tr>\n",
       "      <th>3</th>\n",
       "      <td>2025-01-29 02:13:48.300000+00:00</td>\n",
       "      <td>s3://umbra-open-data-catalog/sar-data/tasks/Ka...</td>\n",
       "      <td>s3://umbra-open-data-catalog/sar-data/tasks/Ka...</td>\n",
       "      <td>s3://umbra-open-data-catalog/sar-data/tasks/Ka...</td>\n",
       "    </tr>\n",
       "    <tr>\n",
       "      <th>4</th>\n",
       "      <td>2025-02-04 00:56:35.199999+00:00</td>\n",
       "      <td>s3://umbra-open-data-catalog/sar-data/tasks/Ka...</td>\n",
       "      <td>s3://umbra-open-data-catalog/sar-data/tasks/Ka...</td>\n",
       "      <td>s3://umbra-open-data-catalog/sar-data/tasks/Ka...</td>\n",
       "    </tr>\n",
       "  </tbody>\n",
       "</table>\n",
       "</div>"
      ],
      "text/plain": [
       "                          datetime  \\\n",
       "0 2025-01-09 14:33:39.800000+00:00   \n",
       "1 2025-01-21 01:50:30.300000+00:00   \n",
       "2 2025-01-23 00:41:45.299998+00:00   \n",
       "3 2025-01-29 02:13:48.300000+00:00   \n",
       "4 2025-02-04 00:56:35.199999+00:00   \n",
       "\n",
       "                                                stac  \\\n",
       "0  s3://umbra-open-data-catalog/sar-data/tasks/Ka...   \n",
       "1  s3://umbra-open-data-catalog/sar-data/tasks/Ka...   \n",
       "2  s3://umbra-open-data-catalog/sar-data/tasks/Ka...   \n",
       "3  s3://umbra-open-data-catalog/sar-data/tasks/Ka...   \n",
       "4  s3://umbra-open-data-catalog/sar-data/tasks/Ka...   \n",
       "\n",
       "                                                 gec  \\\n",
       "0  s3://umbra-open-data-catalog/sar-data/tasks/Ka...   \n",
       "1  s3://umbra-open-data-catalog/sar-data/tasks/Ka...   \n",
       "2  s3://umbra-open-data-catalog/sar-data/tasks/Ka...   \n",
       "3  s3://umbra-open-data-catalog/sar-data/tasks/Ka...   \n",
       "4  s3://umbra-open-data-catalog/sar-data/tasks/Ka...   \n",
       "\n",
       "                                                sicd  \n",
       "0  s3://umbra-open-data-catalog/sar-data/tasks/Ka...  \n",
       "1  s3://umbra-open-data-catalog/sar-data/tasks/Ka...  \n",
       "2  s3://umbra-open-data-catalog/sar-data/tasks/Ka...  \n",
       "3  s3://umbra-open-data-catalog/sar-data/tasks/Ka...  \n",
       "4  s3://umbra-open-data-catalog/sar-data/tasks/Ka...  "
      ]
     },
     "execution_count": 40,
     "metadata": {},
     "output_type": "execute_result"
    }
   ],
   "source": [
    "sar_keys = getSARStacKeys(s3_prefix)\n",
    "df = umbraSARToDataframe(sar_keys)\n",
    "\n",
    "df.head(5)"
   ]
  },
  {
   "cell_type": "code",
   "execution_count": null,
   "id": "e4a4df41",
   "metadata": {},
   "outputs": [],
   "source": []
  }
 ],
 "metadata": {
  "kernelspec": {
   "display_name": "Python 3 (ipykernel)",
   "language": "python",
   "name": "python3"
  },
  "language_info": {
   "codemirror_mode": {
    "name": "ipython",
    "version": 3
   },
   "file_extension": ".py",
   "mimetype": "text/x-python",
   "name": "python",
   "nbconvert_exporter": "python",
   "pygments_lexer": "ipython3",
   "version": "3.12.3"
  }
 },
 "nbformat": 4,
 "nbformat_minor": 5
}
